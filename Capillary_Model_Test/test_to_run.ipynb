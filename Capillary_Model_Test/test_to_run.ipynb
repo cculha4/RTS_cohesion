{
 "cells": [
  {
   "cell_type": "code",
   "execution_count": 1,
   "id": "d4e5818a",
   "metadata": {},
   "outputs": [],
   "source": [
    "# Import necessary libraries\n",
    "import os\n",
    "from IPython.display import display, Markdown"
   ]
  },
  {
   "cell_type": "code",
   "execution_count": 2,
   "id": "0f87c589",
   "metadata": {},
   "outputs": [],
   "source": [
    "# Read the content of base_script.txt\n",
    "with open('base_script.txt', 'r') as file:\n",
    "    base_script = file.read()\n",
    "\n",
    "# Values to test\n",
    "surfaceLiquidContentInitial_values = [0, 0.01, 0.02, 0.03, 0.04, 0.05, 1]\n",
    "radius_values = {\n",
    "    'clay': 5E-04,\n",
    "    'silt': 8E-04,\n",
    "    'sand': 1E-03\n",
    "}\n",
    "particle_names = ['pts1', 'pts2', 'pts3']\n",
    "folder_indices = [0, 1, 2, 3, 4, 5, 100]"
   ]
  },
  {
   "cell_type": "code",
   "execution_count": 3,
   "id": "d1871711",
   "metadata": {},
   "outputs": [
    {
     "data": {
      "text/markdown": [
       "Script saved as `in.SAMPLEclay0` for material: `clay`, sLCI: `0`, radius: `0.0005`"
      ],
      "text/plain": [
       "<IPython.core.display.Markdown object>"
      ]
     },
     "metadata": {},
     "output_type": "display_data"
    },
    {
     "data": {
      "text/markdown": [
       "Script saved as `in.SAMPLEsilt0` for material: `silt`, sLCI: `0`, radius: `0.0008`"
      ],
      "text/plain": [
       "<IPython.core.display.Markdown object>"
      ]
     },
     "metadata": {},
     "output_type": "display_data"
    },
    {
     "data": {
      "text/markdown": [
       "Script saved as `in.SAMPLEsand0` for material: `sand`, sLCI: `0`, radius: `0.001`"
      ],
      "text/plain": [
       "<IPython.core.display.Markdown object>"
      ]
     },
     "metadata": {},
     "output_type": "display_data"
    },
    {
     "data": {
      "text/markdown": [
       "Script saved as `in.SAMPLEclay1` for material: `clay`, sLCI: `0.01`, radius: `0.0005`"
      ],
      "text/plain": [
       "<IPython.core.display.Markdown object>"
      ]
     },
     "metadata": {},
     "output_type": "display_data"
    },
    {
     "data": {
      "text/markdown": [
       "Script saved as `in.SAMPLEsilt1` for material: `silt`, sLCI: `0.01`, radius: `0.0008`"
      ],
      "text/plain": [
       "<IPython.core.display.Markdown object>"
      ]
     },
     "metadata": {},
     "output_type": "display_data"
    },
    {
     "data": {
      "text/markdown": [
       "Script saved as `in.SAMPLEsand1` for material: `sand`, sLCI: `0.01`, radius: `0.001`"
      ],
      "text/plain": [
       "<IPython.core.display.Markdown object>"
      ]
     },
     "metadata": {},
     "output_type": "display_data"
    },
    {
     "data": {
      "text/markdown": [
       "Script saved as `in.SAMPLEclay2` for material: `clay`, sLCI: `0.02`, radius: `0.0005`"
      ],
      "text/plain": [
       "<IPython.core.display.Markdown object>"
      ]
     },
     "metadata": {},
     "output_type": "display_data"
    },
    {
     "data": {
      "text/markdown": [
       "Script saved as `in.SAMPLEsilt2` for material: `silt`, sLCI: `0.02`, radius: `0.0008`"
      ],
      "text/plain": [
       "<IPython.core.display.Markdown object>"
      ]
     },
     "metadata": {},
     "output_type": "display_data"
    },
    {
     "data": {
      "text/markdown": [
       "Script saved as `in.SAMPLEsand2` for material: `sand`, sLCI: `0.02`, radius: `0.001`"
      ],
      "text/plain": [
       "<IPython.core.display.Markdown object>"
      ]
     },
     "metadata": {},
     "output_type": "display_data"
    },
    {
     "data": {
      "text/markdown": [
       "Script saved as `in.SAMPLEclay3` for material: `clay`, sLCI: `0.03`, radius: `0.0005`"
      ],
      "text/plain": [
       "<IPython.core.display.Markdown object>"
      ]
     },
     "metadata": {},
     "output_type": "display_data"
    },
    {
     "data": {
      "text/markdown": [
       "Script saved as `in.SAMPLEsilt3` for material: `silt`, sLCI: `0.03`, radius: `0.0008`"
      ],
      "text/plain": [
       "<IPython.core.display.Markdown object>"
      ]
     },
     "metadata": {},
     "output_type": "display_data"
    },
    {
     "data": {
      "text/markdown": [
       "Script saved as `in.SAMPLEsand3` for material: `sand`, sLCI: `0.03`, radius: `0.001`"
      ],
      "text/plain": [
       "<IPython.core.display.Markdown object>"
      ]
     },
     "metadata": {},
     "output_type": "display_data"
    },
    {
     "data": {
      "text/markdown": [
       "Script saved as `in.SAMPLEclay4` for material: `clay`, sLCI: `0.04`, radius: `0.0005`"
      ],
      "text/plain": [
       "<IPython.core.display.Markdown object>"
      ]
     },
     "metadata": {},
     "output_type": "display_data"
    },
    {
     "data": {
      "text/markdown": [
       "Script saved as `in.SAMPLEsilt4` for material: `silt`, sLCI: `0.04`, radius: `0.0008`"
      ],
      "text/plain": [
       "<IPython.core.display.Markdown object>"
      ]
     },
     "metadata": {},
     "output_type": "display_data"
    },
    {
     "data": {
      "text/markdown": [
       "Script saved as `in.SAMPLEsand4` for material: `sand`, sLCI: `0.04`, radius: `0.001`"
      ],
      "text/plain": [
       "<IPython.core.display.Markdown object>"
      ]
     },
     "metadata": {},
     "output_type": "display_data"
    },
    {
     "data": {
      "text/markdown": [
       "Script saved as `in.SAMPLEclay5` for material: `clay`, sLCI: `0.05`, radius: `0.0005`"
      ],
      "text/plain": [
       "<IPython.core.display.Markdown object>"
      ]
     },
     "metadata": {},
     "output_type": "display_data"
    },
    {
     "data": {
      "text/markdown": [
       "Script saved as `in.SAMPLEsilt5` for material: `silt`, sLCI: `0.05`, radius: `0.0008`"
      ],
      "text/plain": [
       "<IPython.core.display.Markdown object>"
      ]
     },
     "metadata": {},
     "output_type": "display_data"
    },
    {
     "data": {
      "text/markdown": [
       "Script saved as `in.SAMPLEsand5` for material: `sand`, sLCI: `0.05`, radius: `0.001`"
      ],
      "text/plain": [
       "<IPython.core.display.Markdown object>"
      ]
     },
     "metadata": {},
     "output_type": "display_data"
    },
    {
     "data": {
      "text/markdown": [
       "Script saved as `in.SAMPLEclay100` for material: `clay`, sLCI: `1`, radius: `0.0005`"
      ],
      "text/plain": [
       "<IPython.core.display.Markdown object>"
      ]
     },
     "metadata": {},
     "output_type": "display_data"
    },
    {
     "data": {
      "text/markdown": [
       "Script saved as `in.SAMPLEsilt100` for material: `silt`, sLCI: `1`, radius: `0.0008`"
      ],
      "text/plain": [
       "<IPython.core.display.Markdown object>"
      ]
     },
     "metadata": {},
     "output_type": "display_data"
    },
    {
     "data": {
      "text/markdown": [
       "Script saved as `in.SAMPLEsand100` for material: `sand`, sLCI: `1`, radius: `0.001`"
      ],
      "text/plain": [
       "<IPython.core.display.Markdown object>"
      ]
     },
     "metadata": {},
     "output_type": "display_data"
    }
   ],
   "source": [
    "# Function to replace values and save script\n",
    "def save_script(material, sLCI_index, sLCI, radius):\n",
    "    # Replace the necessary lines in the script\n",
    "    modified_script = base_script.replace(\"surfaceLiquidContentInitial scalar 0\", \n",
    "                                          f\"surfaceLiquidContentInitial scalar {sLCI}\")\n",
    "    for particle in particle_names:\n",
    "        modified_script = modified_script.replace(\"radius constant 1E-03\", \n",
    "                                                  f\"radius constant {radius}\")\n",
    "    \n",
    "    folder = f\"{material}{folder_indices[sLCI_index]}\"\n",
    "    modified_script = modified_script.replace(\"post2/dump*.liggghts\", f\"{folder}/post2/dump*.liggghts\")\n",
    "    \n",
    "    # Save the script with the filename \"in.SAMPLEfolder\"\n",
    "    with open(f\"in.SAMPLE{folder}\", 'w') as file:\n",
    "        file.write(modified_script)\n",
    "    display(Markdown(f\"Script saved as `in.SAMPLE{folder}` for material: `{material}`, sLCI: `{sLCI}`, radius: `{radius}`\"))\n",
    "\n",
    "# Loop through the conditions and save scripts\n",
    "for sLCI_index, sLCI in enumerate(surfaceLiquidContentInitial_values):\n",
    "    for material, radius in radius_values.items():\n",
    "        save_script(material, sLCI_index, sLCI, radius)"
   ]
  },
  {
   "cell_type": "code",
   "execution_count": null,
   "id": "30b4dad0",
   "metadata": {},
   "outputs": [],
   "source": []
  }
 ],
 "metadata": {
  "kernelspec": {
   "display_name": "Python 3 (ipykernel)",
   "language": "python",
   "name": "python3"
  },
  "language_info": {
   "codemirror_mode": {
    "name": "ipython",
    "version": 3
   },
   "file_extension": ".py",
   "mimetype": "text/x-python",
   "name": "python",
   "nbconvert_exporter": "python",
   "pygments_lexer": "ipython3",
   "version": "3.11.4"
  }
 },
 "nbformat": 4,
 "nbformat_minor": 5
}
