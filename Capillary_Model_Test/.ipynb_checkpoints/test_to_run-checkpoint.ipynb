{
 "cells": [
  {
   "cell_type": "code",
   "execution_count": 1,
   "id": "8245ec77",
   "metadata": {},
   "outputs": [],
   "source": [
    "# Import necessary libraries\n",
    "import os\n",
    "from IPython.display import display, Markdown"
   ]
  },
  {
   "cell_type": "code",
   "execution_count": 2,
   "id": "74b4dd7d",
   "metadata": {},
   "outputs": [],
   "source": [
    "# Read the content of base_script.txt\n",
    "with open('base_script.txt', 'r') as file:\n",
    "    base_script = file.read()"
   ]
  },
  {
   "cell_type": "code",
   "execution_count": 3,
   "id": "5761556a",
   "metadata": {},
   "outputs": [],
   "source": [
    "# Values to test\n",
    "surfaceLiquidContentInitial_values = [0, 0.01, 0.02, 0.03, 0.04, 0.05, 1]\n",
    "radius_values = [5E-04, 8E-04, 1E-03]\n",
    "particle_names = ['pts1', 'pts2', 'pts3']\n",
    "\n",
    "# Folders for different conditions\n",
    "folder_names = ['clay', 'silt', 'sand']\n",
    "folder_indices = list(range(6)) + [100]"
   ]
  },
  {
   "cell_type": "code",
   "execution_count": 4,
   "id": "9a66c206",
   "metadata": {},
   "outputs": [],
   "source": [
    "# Function to replace values and save script\n",
    "def save_script(folder, sLCI, radius):\n",
    "    # Replace the necessary lines in the script\n",
    "    modified_script = base_script.replace(\"surfaceLiquidContentInitial scalar 0\", \n",
    "                                          f\"surfaceLiquidContentInitial scalar {sLCI}\")\n",
    "    for particle in particle_names:\n",
    "        modified_script = modified_script.replace(f\"fix {particle} all particletemplate/sphere\", \n",
    "                                                  f\"fix {particle} all particletemplate/sphere ... radius constant {radius}\")\n",
    "    \n",
    "    modified_script = modified_script.replace(\"post2/dump*.liggghts\", f\"{folder}/post2/dump*.liggghts\")\n",
    "    \n",
    "    # Save the script with the filename \"in.SAMPLEfolder\"\n",
    "    with open(f\"in.SAMPLE{folder}\", 'w') as file:\n",
    "        file.write(modified_script)\n",
    "    display(Markdown(f\"Script saved as `in.SAMPLE{folder}` for sLCI: `{sLCI}`, radius: `{radius}`\"))"
   ]
  },
  {
   "cell_type": "code",
   "execution_count": 5,
   "id": "cb68ab5c",
   "metadata": {},
   "outputs": [
    {
     "data": {
      "text/markdown": [
       "Script saved as `in.SAMPLEclay0` for sLCI: `0`, radius: `0.0005`"
      ],
      "text/plain": [
       "<IPython.core.display.Markdown object>"
      ]
     },
     "metadata": {},
     "output_type": "display_data"
    },
    {
     "data": {
      "text/markdown": [
       "Script saved as `in.SAMPLEsilt0` for sLCI: `0`, radius: `0.0005`"
      ],
      "text/plain": [
       "<IPython.core.display.Markdown object>"
      ]
     },
     "metadata": {},
     "output_type": "display_data"
    },
    {
     "data": {
      "text/markdown": [
       "Script saved as `in.SAMPLEsand0` for sLCI: `0`, radius: `0.0005`"
      ],
      "text/plain": [
       "<IPython.core.display.Markdown object>"
      ]
     },
     "metadata": {},
     "output_type": "display_data"
    },
    {
     "data": {
      "text/markdown": [
       "Script saved as `in.SAMPLEclay0` for sLCI: `0`, radius: `0.0008`"
      ],
      "text/plain": [
       "<IPython.core.display.Markdown object>"
      ]
     },
     "metadata": {},
     "output_type": "display_data"
    },
    {
     "data": {
      "text/markdown": [
       "Script saved as `in.SAMPLEsilt0` for sLCI: `0`, radius: `0.0008`"
      ],
      "text/plain": [
       "<IPython.core.display.Markdown object>"
      ]
     },
     "metadata": {},
     "output_type": "display_data"
    },
    {
     "data": {
      "text/markdown": [
       "Script saved as `in.SAMPLEsand0` for sLCI: `0`, radius: `0.0008`"
      ],
      "text/plain": [
       "<IPython.core.display.Markdown object>"
      ]
     },
     "metadata": {},
     "output_type": "display_data"
    },
    {
     "data": {
      "text/markdown": [
       "Script saved as `in.SAMPLEclay0` for sLCI: `0`, radius: `0.001`"
      ],
      "text/plain": [
       "<IPython.core.display.Markdown object>"
      ]
     },
     "metadata": {},
     "output_type": "display_data"
    },
    {
     "data": {
      "text/markdown": [
       "Script saved as `in.SAMPLEsilt0` for sLCI: `0`, radius: `0.001`"
      ],
      "text/plain": [
       "<IPython.core.display.Markdown object>"
      ]
     },
     "metadata": {},
     "output_type": "display_data"
    },
    {
     "data": {
      "text/markdown": [
       "Script saved as `in.SAMPLEsand0` for sLCI: `0`, radius: `0.001`"
      ],
      "text/plain": [
       "<IPython.core.display.Markdown object>"
      ]
     },
     "metadata": {},
     "output_type": "display_data"
    },
    {
     "data": {
      "text/markdown": [
       "Script saved as `in.SAMPLEclay1` for sLCI: `0.01`, radius: `0.0005`"
      ],
      "text/plain": [
       "<IPython.core.display.Markdown object>"
      ]
     },
     "metadata": {},
     "output_type": "display_data"
    },
    {
     "data": {
      "text/markdown": [
       "Script saved as `in.SAMPLEsilt1` for sLCI: `0.01`, radius: `0.0005`"
      ],
      "text/plain": [
       "<IPython.core.display.Markdown object>"
      ]
     },
     "metadata": {},
     "output_type": "display_data"
    },
    {
     "data": {
      "text/markdown": [
       "Script saved as `in.SAMPLEsand1` for sLCI: `0.01`, radius: `0.0005`"
      ],
      "text/plain": [
       "<IPython.core.display.Markdown object>"
      ]
     },
     "metadata": {},
     "output_type": "display_data"
    },
    {
     "data": {
      "text/markdown": [
       "Script saved as `in.SAMPLEclay1` for sLCI: `0.01`, radius: `0.0008`"
      ],
      "text/plain": [
       "<IPython.core.display.Markdown object>"
      ]
     },
     "metadata": {},
     "output_type": "display_data"
    },
    {
     "data": {
      "text/markdown": [
       "Script saved as `in.SAMPLEsilt1` for sLCI: `0.01`, radius: `0.0008`"
      ],
      "text/plain": [
       "<IPython.core.display.Markdown object>"
      ]
     },
     "metadata": {},
     "output_type": "display_data"
    },
    {
     "data": {
      "text/markdown": [
       "Script saved as `in.SAMPLEsand1` for sLCI: `0.01`, radius: `0.0008`"
      ],
      "text/plain": [
       "<IPython.core.display.Markdown object>"
      ]
     },
     "metadata": {},
     "output_type": "display_data"
    },
    {
     "data": {
      "text/markdown": [
       "Script saved as `in.SAMPLEclay1` for sLCI: `0.01`, radius: `0.001`"
      ],
      "text/plain": [
       "<IPython.core.display.Markdown object>"
      ]
     },
     "metadata": {},
     "output_type": "display_data"
    },
    {
     "data": {
      "text/markdown": [
       "Script saved as `in.SAMPLEsilt1` for sLCI: `0.01`, radius: `0.001`"
      ],
      "text/plain": [
       "<IPython.core.display.Markdown object>"
      ]
     },
     "metadata": {},
     "output_type": "display_data"
    },
    {
     "data": {
      "text/markdown": [
       "Script saved as `in.SAMPLEsand1` for sLCI: `0.01`, radius: `0.001`"
      ],
      "text/plain": [
       "<IPython.core.display.Markdown object>"
      ]
     },
     "metadata": {},
     "output_type": "display_data"
    },
    {
     "data": {
      "text/markdown": [
       "Script saved as `in.SAMPLEclay2` for sLCI: `0.02`, radius: `0.0005`"
      ],
      "text/plain": [
       "<IPython.core.display.Markdown object>"
      ]
     },
     "metadata": {},
     "output_type": "display_data"
    },
    {
     "data": {
      "text/markdown": [
       "Script saved as `in.SAMPLEsilt2` for sLCI: `0.02`, radius: `0.0005`"
      ],
      "text/plain": [
       "<IPython.core.display.Markdown object>"
      ]
     },
     "metadata": {},
     "output_type": "display_data"
    },
    {
     "data": {
      "text/markdown": [
       "Script saved as `in.SAMPLEsand2` for sLCI: `0.02`, radius: `0.0005`"
      ],
      "text/plain": [
       "<IPython.core.display.Markdown object>"
      ]
     },
     "metadata": {},
     "output_type": "display_data"
    },
    {
     "data": {
      "text/markdown": [
       "Script saved as `in.SAMPLEclay2` for sLCI: `0.02`, radius: `0.0008`"
      ],
      "text/plain": [
       "<IPython.core.display.Markdown object>"
      ]
     },
     "metadata": {},
     "output_type": "display_data"
    },
    {
     "data": {
      "text/markdown": [
       "Script saved as `in.SAMPLEsilt2` for sLCI: `0.02`, radius: `0.0008`"
      ],
      "text/plain": [
       "<IPython.core.display.Markdown object>"
      ]
     },
     "metadata": {},
     "output_type": "display_data"
    },
    {
     "data": {
      "text/markdown": [
       "Script saved as `in.SAMPLEsand2` for sLCI: `0.02`, radius: `0.0008`"
      ],
      "text/plain": [
       "<IPython.core.display.Markdown object>"
      ]
     },
     "metadata": {},
     "output_type": "display_data"
    },
    {
     "data": {
      "text/markdown": [
       "Script saved as `in.SAMPLEclay2` for sLCI: `0.02`, radius: `0.001`"
      ],
      "text/plain": [
       "<IPython.core.display.Markdown object>"
      ]
     },
     "metadata": {},
     "output_type": "display_data"
    },
    {
     "data": {
      "text/markdown": [
       "Script saved as `in.SAMPLEsilt2` for sLCI: `0.02`, radius: `0.001`"
      ],
      "text/plain": [
       "<IPython.core.display.Markdown object>"
      ]
     },
     "metadata": {},
     "output_type": "display_data"
    },
    {
     "data": {
      "text/markdown": [
       "Script saved as `in.SAMPLEsand2` for sLCI: `0.02`, radius: `0.001`"
      ],
      "text/plain": [
       "<IPython.core.display.Markdown object>"
      ]
     },
     "metadata": {},
     "output_type": "display_data"
    },
    {
     "data": {
      "text/markdown": [
       "Script saved as `in.SAMPLEclay3` for sLCI: `0.03`, radius: `0.0005`"
      ],
      "text/plain": [
       "<IPython.core.display.Markdown object>"
      ]
     },
     "metadata": {},
     "output_type": "display_data"
    },
    {
     "data": {
      "text/markdown": [
       "Script saved as `in.SAMPLEsilt3` for sLCI: `0.03`, radius: `0.0005`"
      ],
      "text/plain": [
       "<IPython.core.display.Markdown object>"
      ]
     },
     "metadata": {},
     "output_type": "display_data"
    },
    {
     "data": {
      "text/markdown": [
       "Script saved as `in.SAMPLEsand3` for sLCI: `0.03`, radius: `0.0005`"
      ],
      "text/plain": [
       "<IPython.core.display.Markdown object>"
      ]
     },
     "metadata": {},
     "output_type": "display_data"
    },
    {
     "data": {
      "text/markdown": [
       "Script saved as `in.SAMPLEclay3` for sLCI: `0.03`, radius: `0.0008`"
      ],
      "text/plain": [
       "<IPython.core.display.Markdown object>"
      ]
     },
     "metadata": {},
     "output_type": "display_data"
    },
    {
     "data": {
      "text/markdown": [
       "Script saved as `in.SAMPLEsilt3` for sLCI: `0.03`, radius: `0.0008`"
      ],
      "text/plain": [
       "<IPython.core.display.Markdown object>"
      ]
     },
     "metadata": {},
     "output_type": "display_data"
    },
    {
     "data": {
      "text/markdown": [
       "Script saved as `in.SAMPLEsand3` for sLCI: `0.03`, radius: `0.0008`"
      ],
      "text/plain": [
       "<IPython.core.display.Markdown object>"
      ]
     },
     "metadata": {},
     "output_type": "display_data"
    },
    {
     "data": {
      "text/markdown": [
       "Script saved as `in.SAMPLEclay3` for sLCI: `0.03`, radius: `0.001`"
      ],
      "text/plain": [
       "<IPython.core.display.Markdown object>"
      ]
     },
     "metadata": {},
     "output_type": "display_data"
    },
    {
     "data": {
      "text/markdown": [
       "Script saved as `in.SAMPLEsilt3` for sLCI: `0.03`, radius: `0.001`"
      ],
      "text/plain": [
       "<IPython.core.display.Markdown object>"
      ]
     },
     "metadata": {},
     "output_type": "display_data"
    },
    {
     "data": {
      "text/markdown": [
       "Script saved as `in.SAMPLEsand3` for sLCI: `0.03`, radius: `0.001`"
      ],
      "text/plain": [
       "<IPython.core.display.Markdown object>"
      ]
     },
     "metadata": {},
     "output_type": "display_data"
    },
    {
     "data": {
      "text/markdown": [
       "Script saved as `in.SAMPLEclay4` for sLCI: `0.04`, radius: `0.0005`"
      ],
      "text/plain": [
       "<IPython.core.display.Markdown object>"
      ]
     },
     "metadata": {},
     "output_type": "display_data"
    },
    {
     "data": {
      "text/markdown": [
       "Script saved as `in.SAMPLEsilt4` for sLCI: `0.04`, radius: `0.0005`"
      ],
      "text/plain": [
       "<IPython.core.display.Markdown object>"
      ]
     },
     "metadata": {},
     "output_type": "display_data"
    },
    {
     "data": {
      "text/markdown": [
       "Script saved as `in.SAMPLEsand4` for sLCI: `0.04`, radius: `0.0005`"
      ],
      "text/plain": [
       "<IPython.core.display.Markdown object>"
      ]
     },
     "metadata": {},
     "output_type": "display_data"
    },
    {
     "data": {
      "text/markdown": [
       "Script saved as `in.SAMPLEclay4` for sLCI: `0.04`, radius: `0.0008`"
      ],
      "text/plain": [
       "<IPython.core.display.Markdown object>"
      ]
     },
     "metadata": {},
     "output_type": "display_data"
    },
    {
     "data": {
      "text/markdown": [
       "Script saved as `in.SAMPLEsilt4` for sLCI: `0.04`, radius: `0.0008`"
      ],
      "text/plain": [
       "<IPython.core.display.Markdown object>"
      ]
     },
     "metadata": {},
     "output_type": "display_data"
    },
    {
     "data": {
      "text/markdown": [
       "Script saved as `in.SAMPLEsand4` for sLCI: `0.04`, radius: `0.0008`"
      ],
      "text/plain": [
       "<IPython.core.display.Markdown object>"
      ]
     },
     "metadata": {},
     "output_type": "display_data"
    },
    {
     "data": {
      "text/markdown": [
       "Script saved as `in.SAMPLEclay4` for sLCI: `0.04`, radius: `0.001`"
      ],
      "text/plain": [
       "<IPython.core.display.Markdown object>"
      ]
     },
     "metadata": {},
     "output_type": "display_data"
    },
    {
     "data": {
      "text/markdown": [
       "Script saved as `in.SAMPLEsilt4` for sLCI: `0.04`, radius: `0.001`"
      ],
      "text/plain": [
       "<IPython.core.display.Markdown object>"
      ]
     },
     "metadata": {},
     "output_type": "display_data"
    },
    {
     "data": {
      "text/markdown": [
       "Script saved as `in.SAMPLEsand4` for sLCI: `0.04`, radius: `0.001`"
      ],
      "text/plain": [
       "<IPython.core.display.Markdown object>"
      ]
     },
     "metadata": {},
     "output_type": "display_data"
    },
    {
     "data": {
      "text/markdown": [
       "Script saved as `in.SAMPLEclay5` for sLCI: `0.05`, radius: `0.0005`"
      ],
      "text/plain": [
       "<IPython.core.display.Markdown object>"
      ]
     },
     "metadata": {},
     "output_type": "display_data"
    },
    {
     "data": {
      "text/markdown": [
       "Script saved as `in.SAMPLEsilt5` for sLCI: `0.05`, radius: `0.0005`"
      ],
      "text/plain": [
       "<IPython.core.display.Markdown object>"
      ]
     },
     "metadata": {},
     "output_type": "display_data"
    },
    {
     "data": {
      "text/markdown": [
       "Script saved as `in.SAMPLEsand5` for sLCI: `0.05`, radius: `0.0005`"
      ],
      "text/plain": [
       "<IPython.core.display.Markdown object>"
      ]
     },
     "metadata": {},
     "output_type": "display_data"
    },
    {
     "data": {
      "text/markdown": [
       "Script saved as `in.SAMPLEclay5` for sLCI: `0.05`, radius: `0.0008`"
      ],
      "text/plain": [
       "<IPython.core.display.Markdown object>"
      ]
     },
     "metadata": {},
     "output_type": "display_data"
    },
    {
     "data": {
      "text/markdown": [
       "Script saved as `in.SAMPLEsilt5` for sLCI: `0.05`, radius: `0.0008`"
      ],
      "text/plain": [
       "<IPython.core.display.Markdown object>"
      ]
     },
     "metadata": {},
     "output_type": "display_data"
    },
    {
     "data": {
      "text/markdown": [
       "Script saved as `in.SAMPLEsand5` for sLCI: `0.05`, radius: `0.0008`"
      ],
      "text/plain": [
       "<IPython.core.display.Markdown object>"
      ]
     },
     "metadata": {},
     "output_type": "display_data"
    },
    {
     "data": {
      "text/markdown": [
       "Script saved as `in.SAMPLEclay5` for sLCI: `0.05`, radius: `0.001`"
      ],
      "text/plain": [
       "<IPython.core.display.Markdown object>"
      ]
     },
     "metadata": {},
     "output_type": "display_data"
    },
    {
     "data": {
      "text/markdown": [
       "Script saved as `in.SAMPLEsilt5` for sLCI: `0.05`, radius: `0.001`"
      ],
      "text/plain": [
       "<IPython.core.display.Markdown object>"
      ]
     },
     "metadata": {},
     "output_type": "display_data"
    },
    {
     "data": {
      "text/markdown": [
       "Script saved as `in.SAMPLEsand5` for sLCI: `0.05`, radius: `0.001`"
      ],
      "text/plain": [
       "<IPython.core.display.Markdown object>"
      ]
     },
     "metadata": {},
     "output_type": "display_data"
    },
    {
     "data": {
      "text/markdown": [
       "Script saved as `in.SAMPLEclay100` for sLCI: `1`, radius: `0.0005`"
      ],
      "text/plain": [
       "<IPython.core.display.Markdown object>"
      ]
     },
     "metadata": {},
     "output_type": "display_data"
    },
    {
     "data": {
      "text/markdown": [
       "Script saved as `in.SAMPLEsilt100` for sLCI: `1`, radius: `0.0005`"
      ],
      "text/plain": [
       "<IPython.core.display.Markdown object>"
      ]
     },
     "metadata": {},
     "output_type": "display_data"
    },
    {
     "data": {
      "text/markdown": [
       "Script saved as `in.SAMPLEsand100` for sLCI: `1`, radius: `0.0005`"
      ],
      "text/plain": [
       "<IPython.core.display.Markdown object>"
      ]
     },
     "metadata": {},
     "output_type": "display_data"
    },
    {
     "data": {
      "text/markdown": [
       "Script saved as `in.SAMPLEclay100` for sLCI: `1`, radius: `0.0008`"
      ],
      "text/plain": [
       "<IPython.core.display.Markdown object>"
      ]
     },
     "metadata": {},
     "output_type": "display_data"
    },
    {
     "data": {
      "text/markdown": [
       "Script saved as `in.SAMPLEsilt100` for sLCI: `1`, radius: `0.0008`"
      ],
      "text/plain": [
       "<IPython.core.display.Markdown object>"
      ]
     },
     "metadata": {},
     "output_type": "display_data"
    },
    {
     "data": {
      "text/markdown": [
       "Script saved as `in.SAMPLEsand100` for sLCI: `1`, radius: `0.0008`"
      ],
      "text/plain": [
       "<IPython.core.display.Markdown object>"
      ]
     },
     "metadata": {},
     "output_type": "display_data"
    },
    {
     "data": {
      "text/markdown": [
       "Script saved as `in.SAMPLEclay100` for sLCI: `1`, radius: `0.001`"
      ],
      "text/plain": [
       "<IPython.core.display.Markdown object>"
      ]
     },
     "metadata": {},
     "output_type": "display_data"
    },
    {
     "data": {
      "text/markdown": [
       "Script saved as `in.SAMPLEsilt100` for sLCI: `1`, radius: `0.001`"
      ],
      "text/plain": [
       "<IPython.core.display.Markdown object>"
      ]
     },
     "metadata": {},
     "output_type": "display_data"
    },
    {
     "data": {
      "text/markdown": [
       "Script saved as `in.SAMPLEsand100` for sLCI: `1`, radius: `0.001`"
      ],
      "text/plain": [
       "<IPython.core.display.Markdown object>"
      ]
     },
     "metadata": {},
     "output_type": "display_data"
    }
   ],
   "source": [
    "# Loop through the conditions and save scripts\n",
    "for sLCI in surfaceLiquidContentInitial_values:\n",
    "    for radius in radius_values:\n",
    "        for folder_base in folder_names:\n",
    "            index = surfaceLiquidContentInitial_values.index(sLCI)\n",
    "            folder = f\"{folder_base}{folder_indices[index]}\"\n",
    "            save_script(folder, sLCI, radius)"
   ]
  },
  {
   "cell_type": "code",
   "execution_count": null,
   "id": "ae3d4dcb",
   "metadata": {},
   "outputs": [],
   "source": []
  }
 ],
 "metadata": {
  "kernelspec": {
   "display_name": "Python 3 (ipykernel)",
   "language": "python",
   "name": "python3"
  },
  "language_info": {
   "codemirror_mode": {
    "name": "ipython",
    "version": 3
   },
   "file_extension": ".py",
   "mimetype": "text/x-python",
   "name": "python",
   "nbconvert_exporter": "python",
   "pygments_lexer": "ipython3",
   "version": "3.11.4"
  }
 },
 "nbformat": 4,
 "nbformat_minor": 5
}
