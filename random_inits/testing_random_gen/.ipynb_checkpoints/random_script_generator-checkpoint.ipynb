{
 "cells": [
  {
   "cell_type": "code",
   "execution_count": 1,
   "id": "329ac826",
   "metadata": {},
   "outputs": [],
   "source": [
    "# Import the necessary libraries\n",
    "import os\n",
    "import numpy as np"
   ]
  },
  {
   "cell_type": "code",
   "execution_count": 2,
   "id": "08b670b5",
   "metadata": {},
   "outputs": [],
   "source": [
    "# Read the base script into a string\n",
    "with open('base_script.txt', 'r') as file:\n",
    "    base_script = file.read()"
   ]
  },
  {
   "cell_type": "code",
   "execution_count": 3,
   "id": "d8e6df6f",
   "metadata": {},
   "outputs": [],
   "source": [
    "# Define the values for surfaceLiquidContentInitial and radius constant\n",
    "surfaceLiquidContentValues = [0, 10, 20, 30, 40, 50, 60, 70, 80, 90]\n",
    "radiusConstantValues = np.linspace(5e-04, 1e-03, 10)  # 10 values between 5E-04 and 1E-03"
   ]
  },
  {
   "cell_type": "code",
   "execution_count": 4,
   "id": "5916dcd7",
   "metadata": {},
   "outputs": [],
   "source": [
    "# Folder to save generated scripts\n",
    "output_folder = \"generated_scripts\"\n",
    "if not os.path.exists(output_folder):\n",
    "    os.makedirs(output_folder)"
   ]
  },
  {
   "cell_type": "code",
   "execution_count": 5,
   "id": "85e9b733",
   "metadata": {},
   "outputs": [
    {
     "name": "stdout",
     "output_type": "stream",
     "text": [
      "Generated 100 script versions in 'generated_scripts' folder.\n"
     ]
    }
   ],
   "source": [
    "# Counter for script versions\n",
    "script_count = 0\n",
    "\n",
    "# Iterate over each combination of values and generate script\n",
    "for surfaceLiquidContent in surfaceLiquidContentValues:\n",
    "    for radiusConstant in radiusConstantValues:\n",
    "        # Replace the placeholders with the current values\n",
    "        current_script = base_script.replace('surfaceLiquidContentInitial scalar 0', f'surfaceLiquidContentInitial scalar {surfaceLiquidContent}')\n",
    "        current_script = current_script.replace('radius constant 1E-03', f'radius constant {radiusConstant:.5E}')\n",
    "        \n",
    "        # Adjusting output lines\n",
    "        initial_num = script_count + 1\n",
    "        current_script = current_script.replace('post2/dump*.liggghts', f'initial{initial_num}/post2/dump*.liggghts')\n",
    "        \n",
    "        # Save the modified script to a new file with the desired naming format\n",
    "        script_count += 1\n",
    "        with open(os.path.join(output_folder, f'in.SAMPLE{script_count}'), 'w') as file:\n",
    "            file.write(current_script)\n",
    "\n",
    "print(f\"Generated {script_count} script versions in '{output_folder}' folder.\")"
   ]
  },
  {
   "cell_type": "code",
   "execution_count": null,
   "id": "012163b2",
   "metadata": {},
   "outputs": [],
   "source": []
  }
 ],
 "metadata": {
  "kernelspec": {
   "display_name": "Python 3 (ipykernel)",
   "language": "python",
   "name": "python3"
  },
  "language_info": {
   "codemirror_mode": {
    "name": "ipython",
    "version": 3
   },
   "file_extension": ".py",
   "mimetype": "text/x-python",
   "name": "python",
   "nbconvert_exporter": "python",
   "pygments_lexer": "ipython3",
   "version": "3.11.4"
  }
 },
 "nbformat": 4,
 "nbformat_minor": 5
}
